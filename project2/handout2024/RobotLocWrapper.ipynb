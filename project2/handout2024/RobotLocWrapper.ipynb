{
 "cells": [
  {
   "cell_type": "markdown",
   "metadata": {},
   "source": [
    "### Python based viewer tool for \"Probabilistic Reasoning over time\", EDAP01 Artificial Intelligence\n",
    "This notebook has been provided to you by Alexander Dürr, teaching assistant on the course, spring term 2021. It is based on the ideas and structure of the original Java skeleton for this assignment, provided by Elin A. Topp. Contact us (elin_anna.topp at cs.lth.se) in case you need help!"
   ]
  },
  {
   "cell_type": "markdown",
   "metadata": {},
   "source": [
    "### Note: Installing and activating widgets for Jupyter Notebook\n",
    "To be able to display the visualization (dashboard,animations,etc.) you have to initially install the package  if you don't have it yet"
   ]
  },
  {
   "cell_type": "raw",
   "metadata": {},
   "source": [
    "pip install ipywidgets"
   ]
  },
  {
   "cell_type": "markdown",
   "metadata": {},
   "source": [
    "### Note: Use Jupyter Lab for programming, Jupyter Notebook for visualization (optional)\n",
    "This command only enables the extension for jupyter notebook and not in jupyter lab! You can edit from the comfort of jupyter lab though and when you feel like using the widgets just go to\n",
    "\n",
    "Menu bar > Help > Launch Classic Notebook"
   ]
  },
  {
   "cell_type": "raw",
   "metadata": {},
   "source": [
    "jupyter nbextension enable --py widgetsnbextension"
   ]
  },
  {
   "cell_type": "markdown",
   "metadata": {},
   "source": [
    "## Here we go... inspecting the models, option 1\n",
    "\n",
    "### Your main job will be in the file Filters.py and in the last cell of this notebook, this is only to understand the models\n",
    "\n",
    "In _models_, all the actually interesting stuff is located, and in _Filters_ you should write your own code. Note that the visualization (next cell on inspecting the models, option 2) assumes to have access to an object of type _Localizer_ which in turn expects the filtering / smoothing to happen in _Filters.HMM_Filters.filter(sensorR)_. This means that IF you want to make use of the visualisation in grid-view (below!) also for the actual tracking, you MUST implement the filtering in _Filters.HMM_Filter.filter(sensorR)_ (or make changes in _Localizer.Localizer.update()_)\n",
    "\n"
   ]
  },
  {
   "cell_type": "code",
   "execution_count": 1,
   "metadata": {
    "scrolled": true
   },
   "outputs": [
    {
     "data": {
      "image/png": "[encoded data removed]",
      "text/plain": [
       "<Figure size 288x288 with 2 Axes>"
      ]
     },
     "metadata": {
      "needs_background": "light"
     },
     "output_type": "display_data"
    },
    {
     "data": {
      "image/png": "[encoded data removed]",
      "text/plain": [
       "<Figure size 1117.09x288 with 2 Axes>"
      ]
     },
     "metadata": {
      "needs_background": "light"
     },
     "output_type": "display_data"
    },
    {
     "name": "stdout",
     "output_type": "stream",
     "text": [
      "[[0.1 0.  0.  ... 0.  0.  0. ]\n",
      " [0.  0.1 0.  ... 0.  0.  0. ]\n",
      " [0.  0.  0.1 ... 0.  0.  0. ]\n",
      " ...\n",
      " [0.  0.  0.  ... 0.  0.  0. ]\n",
      " [0.  0.  0.  ... 0.  0.  0. ]\n",
      " [0.  0.  0.  ... 0.  0.  0. ]]\n",
      "[[0.1 0.  0.  ... 0.  0.  0. ]\n",
      " [0.  0.1 0.  ... 0.  0.  0. ]\n",
      " [0.  0.  0.1 ... 0.  0.  0. ]\n",
      " ...\n",
      " [0.  0.  0.  ... 0.1 0.  0. ]\n",
      " [0.  0.  0.  ... 0.  0.1 0. ]\n",
      " [0.  0.  0.  ... 0.  0.  0.1]]\n",
      "(True, 0, 5, 2, 0, 7, 0, 6, 1, array([0.        , 0.        , 0.        , 0.        , 0.        ,\n",
      "       0.        , 0.        , 0.        , 0.        , 0.        ,\n",
      "       0.        , 0.        , 0.        , 0.        , 0.        ,\n",
      "       0.        , 0.        , 0.        , 0.        , 0.        ,\n",
      "       0.08888889, 0.08888889, 0.08888889, 0.08888889, 0.14814815,\n",
      "       0.14814815, 0.14814815, 0.14814815, 0.11111111, 0.11111111,\n",
      "       0.11111111, 0.11111111, 0.        , 0.        , 0.        ,\n",
      "       0.        , 0.        , 0.        , 0.        , 0.        ,\n",
      "       0.        , 0.        , 0.        , 0.        , 0.        ,\n",
      "       0.        , 0.        , 0.        , 0.        , 0.        ,\n",
      "       0.        , 0.        , 0.08888889, 0.08888889, 0.08888889,\n",
      "       0.08888889, 0.14814815, 0.14814815, 0.14814815, 0.14814815,\n",
      "       0.14814815, 0.14814815, 0.14814815, 0.14814815, 0.        ,\n",
      "       0.        , 0.        , 0.        , 0.        , 0.        ,\n",
      "       0.        , 0.        , 0.        , 0.        , 0.        ,\n",
      "       0.        , 0.        , 0.        , 0.        , 0.        ,\n",
      "       0.        , 0.        , 0.        , 0.        , 0.08888889,\n",
      "       0.08888889, 0.08888889, 0.08888889, 0.08888889, 0.08888889,\n",
      "       0.08888889, 0.08888889, 0.08888889, 0.08888889, 0.08888889,\n",
      "       0.08888889, 0.        , 0.        , 0.        , 0.        ,\n",
      "       0.        , 0.        , 0.        , 0.        , 0.        ,\n",
      "       0.        , 0.        , 0.        , 0.        , 0.        ,\n",
      "       0.        , 0.        , 0.        , 0.        , 0.        ,\n",
      "       0.        , 0.        , 0.        , 0.        , 0.        ,\n",
      "       0.        , 0.        , 0.        , 0.        , 0.        ,\n",
      "       0.        , 0.        , 0.        ]))\n"
     ]
    }
   ],
   "source": [
    "from models import *\n",
    "from view_control.Localizer import Localizer\n",
    "\n",
    "# Testing the models, e.g., for an 4x8 grid\n",
    "\n",
    "states = StateModel( 4, 8)\n",
    "loc = Localizer( states, 1)\n",
    "tMat = loc.get_transition_model()\n",
    "sVecs = loc.get_observation_model()\n",
    "tMat.plot_T()\n",
    "sVecs.plot_o_diags()\n",
    "print(sVecs.get_o_reading(0))\n",
    "print(sVecs.get_o_reading(None))\n",
    "\n",
    "print(loc.update())\n"
   ]
  },
  {
   "cell_type": "markdown",
   "metadata": {},
   "source": [
    "## Here we go again... inspecting the models, option 2\n",
    "\n",
    "### Your implementation job will still be in the file Filters.py, this is only to understand the models AND to get a glimpse of a tracking run (but it is slow)\n",
    "\n",
    "In _models_, all the actually interesting stuff is located, and in _Filters_ you should write your own code. Note that this visualization assumes to have access to an object of type Localizer which in turn expects the filtering / smoothing to happen in _Filters.HMM_Filters.filter()_. This means that IF you want to make use of the visualisation in grid-view also for the actual tracking, you MUST implement the filtering in Filters.HMM_Filter.filter() (or make respective changes in _Localizer.Localizer.update()_)\n",
    "\n",
    "### Your Task 1)\n",
    "#### Inspect the visualisation of the models by running the cell and experimenting with the GUI, in particular compare and explain the different versions of the sensor model (see more detailed instructions for the task and report)"
   ]
  },
  {
   "cell_type": "code",
   "execution_count": 2,
   "metadata": {
    "scrolled": false
   },
   "outputs": [
    {
     "data": {
      "application/vnd.jupyter.widget-view+json": {
       "model_id": "531805637a414a90ad01c084757bce5c",
       "version_major": 2,
       "version_minor": 0
      },
      "text/plain": [
       "VBox(children=(HBox(children=(IntSlider(value=4, description='Height', max=10, min=4), IntSlider(value=4, desc…"
      ]
     },
     "metadata": {},
     "output_type": "display_data"
    },
    {
     "name": "stdout",
     "output_type": "stream",
     "text": [
      "12 12 [ 0  3  6  9 12]\n",
      "12 12 [ 0  3  6  9 12]\n"
     ]
    }
   ],
   "source": [
    "# In view_control.Dashboard, there is simply the handling of all the thread based visualisation provided, \n",
    "# no changes needed, but feel free...\n",
    "\n",
    "from view_control import *\n",
    "\n",
    "ROWS = 4\n",
    "COLS = 4\n",
    "\n",
    "# The dashboard creates a state model of the dimensions given by ROWS and COLS, sets up the respective \n",
    "# Transition and Observation models, as well as an instance of class Localizer. The Localizer calls at the \n",
    "# moment a stubb method toDo.Filters.HMMFilter.filter(sensorReading), which just sends back the original \n",
    "# probability distribution - no filtering is done. It is your task to implement something useful there.\n",
    "\n",
    "# Non-uniform failure is the default sensor, sensor 0. Change to 1 if that is your default \n",
    "# (uniform sensor failure)\n",
    "sensorType = 0\n",
    "dash = Dashboard(ROWS, COLS, sensorType)\n",
    "display(dash.db)\n"
   ]
  },
  {
   "cell_type": "markdown",
   "metadata": {},
   "source": [
    "## Write your own \"main\" here (without the viewer)\n",
    "\n",
    "### Your task 2)\n",
    "#### Implement both Forward Filtering and Forward-Backward Smoothing with k = t-5 (a sequence length of 5)\n",
    "#### Do evaluations (500 steps should be enough also for the bigger grids) according to the following, adapt the number of steps or the size of the grid if needed, but comment on it\n",
    "#### Provide plots of the Manhattan distance over time\n",
    "\n",
    "1)\n",
    "* Forward Filtering with non-uniform sensor failure on 8x8 grid against\n",
    "* Sensor output only (non-uniform sensor failure, count sensor failures to get the average frequency, but do not count those steps into the avg Manhattan distance) on 8x8 grid \n",
    "\n",
    "\n",
    "2)\n",
    "* Forward Filtering with non-uniform sensor failure on 4x4 grid against\n",
    "* Forward Filtering with uniform sensor failure on 4x4 grid\n",
    "\n",
    "\n",
    "3)\n",
    "* Forward Filtering with non-uniform sensor failure on 16x20 grid against\n",
    "* Forward Filtering with uniform sensor failure on 16x20 grid\n",
    "\n",
    "\n",
    "4)\n",
    "* Forward Filtering with non-uniform sensor failure on 10x10 grid against\n",
    "* Smoothing (forward-backward smoothing) with k = t-5 (five steps for b) and non-uniform sensor failure on 10x10 grid\n",
    "\n",
    "#### OBS: obviously, each pair-wise evaluation should be run based on the same true trajectory (cases 1, 2, 3) or same trajectory AND same sensor reading sequence (for case 4)."
   ]
  },
  {
   "cell_type": "code",
   "execution_count": 5,
   "metadata": {
    "scrolled": false
   },
   "outputs": [
    {
     "name": "stdout",
     "output_type": "stream",
     "text": [
      "nb of sensor failures:  165\n",
      "avg error guessing:  5.71\n",
      "avg error forward filter (error/nb_move, Manhattan distance): 1.516\n",
      "avg error sensor output:  5.91044776119403\n",
      "nb of correct guesses forward filter:  39.2 %\n",
      "nb of correct guesses sensor output (n_correct/n_non_failures):  0.2985074626865672 %\n"
     ]
    },
    {
     "data": {
      "image/png": "[encoded data removed]",
      "text/plain": [
       "<Figure size 432x288 with 1 Axes>"
      ]
     },
     "metadata": {
      "needs_background": "light"
     },
     "output_type": "display_data"
    }
   ],
   "source": [
    "# In this cell, you can write your own \"main\" to run and evaluate your \n",
    "# implementation without using the visualisation above (should be considerably faster!)\n",
    "\n",
    "#case 1\n",
    "from models import *\n",
    "from Filters import HMMFilter\n",
    "\n",
    "import numpy as np\n",
    "import matplotlib.pyplot as plt\n",
    "import random\n",
    "\n",
    "ROWS = 8\n",
    "COLS = 8\n",
    "sm = StateModel(ROWS,COLS)\n",
    "tm = TransitionModel(sm)\n",
    "om = ObservationModel_NUF.ObservationModel(sm)\n",
    "true_state = random.randint(0, sm.get_num_of_states() - 1)\n",
    "sense = None\n",
    "probs = np.ones(sm.get_num_of_states()) / (sm.get_num_of_states())\n",
    "estimate = sm.state_to_position(np.argmax(probs))\n",
    "        \n",
    "rs = RobotSim(true_state, sm)\n",
    "HMM = HMMFilter(probs, tm, om, sm)\n",
    "error1 = 0; n_correct1 = 0; error2 = 0; n_correct2 = 0; j = 0; errorG = 0\n",
    "n_sensor_f = 0\n",
    "distance1 = np.zeros(500)\n",
    "distance2 = np.zeros(500)\n",
    "\n",
    "for i in range(500):\n",
    "    #taken from the function update() of Localizer\n",
    "    trueState = rs.move_once(tm)\n",
    "    sense = rs.sense_in_current_state(om)\n",
    "    probs = HMM.filter(sense)\n",
    "      \n",
    "    fPositions = probs.copy()\n",
    "        \n",
    "    for state in range(0, sm.get_num_of_states(), 4) :\n",
    "        fPositions[state:state+4] = sum(fPositions[state:state+4])\n",
    "            \n",
    "    estimate = sm.state_to_position(np.argmax(fPositions))\n",
    "        \n",
    "    ret = False  # in case the sensor reading is \"nothing\" this is kept...\n",
    "    \n",
    "    tsX, tsY, tsH = sm.state_to_pose(trueState)    \n",
    "    gX = random.randint(0,ROWS)  \n",
    "    gY = random.randint(0,COLS)\n",
    "    err = abs(tsX-gX) + abs(tsY-gY)\n",
    "    errorG += err\n",
    "    eX, eY = estimate\n",
    "    err1 = abs(tsX-eX) + abs(tsY-eY)\n",
    "    if (err1 == 0): n_correct1 += 1\n",
    "    error1 += err1\n",
    "    distance1[i] = err1\n",
    "    if sense != None:\n",
    "        ssX, ssY, ssH = sm.state_to_pose(sense) #just what the sensor gets\n",
    "        err2 = abs(tsX-ssX) + abs(tsY-ssY)\n",
    "        if (err2 == 0): n_correct2 += 1\n",
    "        error2 += err2\n",
    "        distance2[j] = err2\n",
    "        j += 1 \n",
    "    else: n_sensor_f += 1\n",
    "    \n",
    "avg_distance1 = np.zeros(500)\n",
    "avg_distance2 = np.zeros(500)\n",
    "\n",
    "for i in range(1,501):\n",
    "    avg_distance1[i-1] = np.mean(distance1[:i])\n",
    "for i in range(1,j+1):\n",
    "    avg_distance2[i-1] = np.mean(distance2[:i])\n",
    "for i in range(j,500):\n",
    "    avg_distance2[i] = avg_distance2[j-1]\n",
    "    \n",
    "print(\"nb of sensor failures: \", n_sensor_f)\n",
    "print(\"avg error guessing: \", errorG/500)\n",
    "print(\"avg error forward filter (error/nb_move, Manhattan distance):\", error1/500)\n",
    "print(\"avg error sensor output: \", error2/(500-n_sensor_f))\n",
    "print(\"nb of correct guesses forward filter: \", n_correct1/500 *100, \"%\")\n",
    "print(\"nb of correct guesses sensor output (n_correct/n_non_failures): \", n_correct2/(500-n_sensor_f) *100, \"%\")\n",
    "plt.plot(np.arange(0, 500, 1), avg_distance1, label = \"Non Uniform\")\n",
    "plt.plot(np.arange(0, 500, 1), avg_distance2, label = \"No filter\")\n",
    "plt.title('Manhattan Distance Over Time')\n",
    "plt.xlabel('Time')\n",
    "plt.ylabel('Manhattan Distance')\n",
    "plt.legend()\n",
    "plt.show()"
   ]
  },
  {
   "cell_type": "code",
   "execution_count": 4,
   "metadata": {},
   "outputs": [
    {
     "name": "stdout",
     "output_type": "stream",
     "text": [
      "avg error non uniform (error/nb_move, Manhattan distance): 1.856\n",
      "avg error uniform:  1.836\n",
      "nb of correct guesses non uniform:  28.4 %\n",
      "nb of correct guesses uniform:  20.200000000000003 %\n"
     ]
    },
    {
     "data": {
      "image/png": "[encoded data removed]",
      "text/plain": [
       "<Figure size 432x288 with 1 Axes>"
      ]
     },
     "metadata": {
      "needs_background": "light"
     },
     "output_type": "display_data"
    }
   ],
   "source": [
    "#case 2:\n",
    "from models import *\n",
    "from Filters import HMMFilter\n",
    "import numpy as np\n",
    "import matplotlib.pyplot as plt\n",
    "import random\n",
    "\n",
    "ROWS = 4\n",
    "COLS = 4\n",
    "sm = StateModel(ROWS,COLS)\n",
    "tm = TransitionModel(sm)\n",
    "om1 = ObservationModel_NUF.ObservationModel(sm)\n",
    "om2 = ObservationModel_UF.ObservationModelUF(sm)\n",
    "true_state = random.randint(0, sm.get_num_of_states() - 1)\n",
    "sense = None\n",
    "probs = np.ones(sm.get_num_of_states()) / (sm.get_num_of_states())\n",
    "estimate = sm.state_to_position(np.argmax(probs))\n",
    "        \n",
    "rs = RobotSim(true_state, sm)\n",
    "HMM1 = HMMFilter(probs, tm, om1, sm)\n",
    "HMM2 = HMMFilter(probs, tm, om2, sm)\n",
    "error1 = 0; n_correct1 = 0; error2 = 0; n_correct2 = 0\n",
    "distance1 = np.zeros(500)\n",
    "distance2 = np.zeros(500)\n",
    "\n",
    "for i in range(500):\n",
    "    #taken from the function update() of Localizer\n",
    "    trueState = rs.move_once(tm)\n",
    "    sense1 = rs.sense_in_current_state(om1)\n",
    "    sense2 = rs.sense_in_current_state(om2)\n",
    "    probs1 = HMM1.filter(sense1)\n",
    "    probs2 = HMM2.filter(sense2)\n",
    "    fPositions1 = probs1.copy()\n",
    "    fPositions2 = probs2.copy()\n",
    "        \n",
    "    for state in range(0, sm.get_num_of_states(), 4) :\n",
    "        fPositions1[state:state+4] = sum(fPositions1[state:state+4])\n",
    "        fPositions2[state:state+4] = sum(fPositions2[state:state+4])\n",
    "            \n",
    "    estimate1 = sm.state_to_position(np.argmax(fPositions1))\n",
    "    estimate2 = sm.state_to_position(np.argmax(fPositions2))\n",
    "    \n",
    "    tsX, tsY, tsH = sm.state_to_pose(trueState)\n",
    "        \n",
    "    eX1, eY1 = estimate1\n",
    "    err1 = abs(tsX-eX1) + abs(tsY-eY1)\n",
    "    if (err1 == 0): n_correct1 += 1\n",
    "    error1 += err1\n",
    "    distance1[i] = err1\n",
    "     \n",
    "    eX2, eY2 = estimate2\n",
    "    err2 = abs(tsX-eX2) + abs(tsY-eY2)\n",
    "    if (err2 == 0): n_correct2 += 1\n",
    "    error2 += err2\n",
    "    distance2[i] = err2\n",
    "    \n",
    "avg_distance1 = np.zeros(500)\n",
    "avg_distance2 = np.zeros(500)\n",
    "\n",
    "for i in range(1,501):\n",
    "    avg_distance1[i-1] = np.mean(distance1[:i])\n",
    "    avg_distance2[i-1] = np.mean(distance2[:i])\n",
    "    \n",
    "print(\"avg error non uniform (error/nb_move, Manhattan distance):\", error1/500)\n",
    "print(\"avg error uniform: \", error2/500)\n",
    "print(\"nb of correct guesses non uniform: \", n_correct1/500 *100, \"%\")\n",
    "print(\"nb of correct guesses uniform: \", n_correct2/500 *100, \"%\")\n",
    "plt.plot(np.arange(0, 500, 1), avg_distance1, label = \"Non uniform\")\n",
    "plt.plot(np.arange(0, 500, 1), avg_distance2, label = \"Uniform\")\n",
    "plt.title('Manhattan Distance Over Time')\n",
    "plt.xlabel('Time')\n",
    "plt.ylabel('Manhattan Distance')\n",
    "plt.legend()\n",
    "plt.show()"
   ]
  },
  {
   "cell_type": "code",
   "execution_count": 5,
   "metadata": {},
   "outputs": [
    {
     "name": "stdout",
     "output_type": "stream",
     "text": [
      "avg error non uniform (error/nb_move), Manhattan distance): 1.636\n",
      "avg error uniform:  1.396\n",
      "nb of correct guesses non uniform:  36.199999999999996 %\n",
      "nb of correct guesses uniform:  39.4 %\n"
     ]
    },
    {
     "data": {
      "image/png": "[encoded data removed]",
      "text/plain": [
       "<Figure size 432x288 with 1 Axes>"
      ]
     },
     "metadata": {
      "needs_background": "light"
     },
     "output_type": "display_data"
    }
   ],
   "source": [
    "#case 3:\n",
    "from models import *\n",
    "from Filters import HMMFilter\n",
    "import numpy as np\n",
    "import matplotlib.pyplot as plt\n",
    "import random\n",
    "\n",
    "ROWS = 16\n",
    "COLS = 20\n",
    "sm = StateModel(ROWS,COLS)\n",
    "tm = TransitionModel(sm)\n",
    "om1 = ObservationModel_NUF.ObservationModel(sm)\n",
    "om2 = ObservationModel_UF.ObservationModelUF(sm)\n",
    "true_state = random.randint(0, sm.get_num_of_states() - 1)\n",
    "sense = None\n",
    "probs = np.ones(sm.get_num_of_states()) / (sm.get_num_of_states())\n",
    "estimate = sm.state_to_position(np.argmax(probs))\n",
    "        \n",
    "rs = RobotSim(true_state, sm)\n",
    "HMM1 = HMMFilter(probs, tm, om1, sm)\n",
    "HMM2 = HMMFilter(probs, tm, om2, sm)\n",
    "error1 = 0; n_correct1 = 0; error2 = 0; n_correct2 = 0\n",
    "distance1 = np.zeros(500)\n",
    "distance2 = np.zeros(500)\n",
    "\n",
    "for i in range(500):\n",
    "    #taken from the function update() of Localizer\n",
    "    trueState = rs.move_once(tm)\n",
    "    sense1 = rs.sense_in_current_state(om1)\n",
    "    sense2 = rs.sense_in_current_state(om2)\n",
    "    probs1 = HMM1.filter(sense1)\n",
    "    probs2 = HMM2.filter(sense2)\n",
    "      \n",
    "    fPositions1 = probs1.copy()\n",
    "    fPositions2 = probs2.copy()\n",
    "        \n",
    "    for state in range(0, sm.get_num_of_states(), 4) :\n",
    "        fPositions1[state:state+4] = sum(fPositions1[state:state+4])\n",
    "        fPositions2[state:state+4] = sum(fPositions2[state:state+4])\n",
    "            \n",
    "    estimate1 = sm.state_to_position(np.argmax(fPositions1))\n",
    "    estimate2 = sm.state_to_position(np.argmax(fPositions2))\n",
    " \n",
    "    tsX, tsY, tsH = sm.state_to_pose(trueState)\n",
    "        \n",
    "    eX1, eY1 = estimate1\n",
    "    err1 = abs(tsX-eX1) + abs(tsY-eY1)\n",
    "    if (err1 == 0): n_correct1 += 1\n",
    "    error1 += err1\n",
    "    distance1[i] = err1\n",
    "     \n",
    "    eX2, eY2 = estimate2\n",
    "    err2 = abs(tsX-eX2) + abs(tsY-eY2)\n",
    "    if (err2 == 0): n_correct2 += 1\n",
    "    error2 += err2\n",
    "    distance2[i] = err2\n",
    "    \n",
    "avg_distance1 = np.zeros(500)\n",
    "avg_distance2 = np.zeros(500)\n",
    "\n",
    "for i in range(1,501):\n",
    "    avg_distance1[i-1] = np.mean(distance1[:i])\n",
    "    avg_distance2[i-1] = np.mean(distance2[:i])\n",
    "    \n",
    "print(\"avg error non uniform (error/nb_move), Manhattan distance):\", error1/500)\n",
    "print(\"avg error uniform: \", error2/500)\n",
    "print(\"nb of correct guesses non uniform: \", n_correct1/500 *100, \"%\")\n",
    "print(\"nb of correct guesses uniform: \", n_correct2/500 *100, \"%\")\n",
    "plt.plot(np.arange(0, 500, 1), avg_distance1, label = \"Non uniform\")\n",
    "plt.plot(np.arange(0, 500, 1), avg_distance2, label = \"Uniform\")\n",
    "plt.title('Manhattan Distance Over Time')\n",
    "plt.xlabel('Time')\n",
    "plt.ylabel('Manhattan Distance')\n",
    "plt.legend()\n",
    "plt.show()"
   ]
  },
  {
   "cell_type": "code",
   "execution_count": 13,
   "metadata": {},
   "outputs": [
    {
     "name": "stdout",
     "output_type": "stream",
     "text": [
      "avg error forward filter (error/nb_move, Manhattan distance): 1.584\n",
      "avg error smoothing:  1.172\n",
      "nb of correct guesses forward filter:  34.599999999999994 %\n",
      "nb of correct guesses smoothing:  41.0 %\n"
     ]
    },
    {
     "data": {
      "image/png": "[encoded data removed]",
      "text/plain": [
       "<Figure size 432x288 with 1 Axes>"
      ]
     },
     "metadata": {
      "needs_background": "light"
     },
     "output_type": "display_data"
    }
   ],
   "source": [
    "#case 4:\n",
    "from models import *\n",
    "from Filters import HMMFilter\n",
    "\n",
    "import numpy as np\n",
    "import matplotlib.pyplot as plt\n",
    "import random\n",
    "\n",
    "\n",
    "ROWS = 10\n",
    "COLS = 10\n",
    "sm = StateModel(ROWS,COLS)\n",
    "tm = TransitionModel(sm)\n",
    "om = ObservationModel_NUF.ObservationModel(sm)\n",
    "true_state = random.randint(0, sm.get_num_of_states() - 1)\n",
    "sense = None\n",
    "probs = np.ones(sm.get_num_of_states()) / (sm.get_num_of_states())\n",
    "#estimate = sm.state_to_position(np.argmax(probs))\n",
    "\n",
    "rs = RobotSim(true_state, sm)\n",
    "HMM = HMMFilter(probs, tm, om, sm)\n",
    "\n",
    "error1 = 0; n_correct1 = 0; error2 = 0; n_correct2 = 0\n",
    "distance1 = np.zeros(500)\n",
    "distance2 = np.zeros(500)\n",
    "sensor_array = [0,0,0,0,0]\n",
    "probs_array = np.zeros((5,sm.get_num_of_states()))\n",
    "trueStates_array = np.zeros((5,2))\n",
    "\n",
    "for i in range(500):\n",
    "    #taken from the function update() of Localizer\n",
    "    trueState = rs.move_once(tm)\n",
    "    sense = rs.sense_in_current_state(om)\n",
    "    probs1 = HMM.filter(sense)\n",
    "    sensor_array.insert(0, sense) #updating the sensor array by adding the new reading at the first position\n",
    "    sensor_array = sensor_array[:-1] #removing the oldest state\n",
    "    probs_array = np.insert(probs_array, 0, probs1, axis=0) #adding the newest probability into the first\n",
    "    probs_array = probs_array[:5]\n",
    "    probs2 = HMM.backward_smoothing(sensor_array, probs_array)\n",
    "    \n",
    "    fPositions1 = probs1.copy()\n",
    "    fPositions2 = probs2.copy()\n",
    "        \n",
    "    for state in range(0, sm.get_num_of_states(), 4) :\n",
    "        fPositions1[state:state+4] = sum(fPositions1[state:state+4])\n",
    "        fPositions2[state:state+4] = sum(fPositions2[state:state+4])\n",
    "            \n",
    "    estimate1 = sm.state_to_position(np.argmax(fPositions1))\n",
    "    estimate2 = sm.state_to_position(np.argmax(fPositions2))\n",
    "    \n",
    "    tsX, tsY, tsH = sm.state_to_pose(trueState)\n",
    "    trueStates_array = np.insert(trueStates_array, 0, (tsX,tsY), axis = 0)\n",
    "    trueStates_array = trueStates_array[:-1]\n",
    "    \n",
    "    eX1, eY1 = estimate1\n",
    "    err1 = abs(tsX-eX1) + abs(tsY-eY1)\n",
    "    if (err1 == 0): n_correct1 += 1\n",
    "    error1 += err1\n",
    "    distance1[i] = err1\n",
    "    \n",
    "    eX2, eY2 = estimate2\n",
    "    tsX, tsY = trueStates_array[4] #comparing the estimated position with the trueState of 5 steps behind\n",
    "    err2 = abs(tsX-eX2) + abs(tsY-eY2)\n",
    "    if (err2 == 0): n_correct2 += 1\n",
    "    error2 += err2\n",
    "    distance2[i] = err2\n",
    "    \n",
    "avg_distance1 = np.zeros(500)\n",
    "avg_distance2 = np.zeros(500)\n",
    "\n",
    "for i in range(1,501):\n",
    "    avg_distance1[i-1] = np.mean(distance1[:i])\n",
    "    avg_distance2[i-1] = np.mean(distance2[:i])\n",
    "    \n",
    "print(\"avg error forward filter (error/nb_move, Manhattan distance):\", error1/500)\n",
    "print(\"avg error smoothing: \", error2/500)\n",
    "print(\"nb of correct guesses forward filter: \", n_correct1/500 *100, \"%\")\n",
    "print(\"nb of correct guesses smoothing: \", n_correct2/500 *100, \"%\")\n",
    "plt.plot(np.arange(0, 500, 1), avg_distance1,  label = \"Just forward filter\")\n",
    "plt.plot(np.arange(0, 500, 1), avg_distance2, label = \"With smoothing\")\n",
    "plt.title('Manhattan Distance Over Time')\n",
    "plt.xlabel('Time')\n",
    "plt.ylabel('Manhattan Distance')\n",
    "plt.legend()\n",
    "plt.show()"
   ]
  },
  {
   "cell_type": "code",
   "execution_count": null,
   "metadata": {},
   "outputs": [],
   "source": []
  }
 ],
 "metadata": {
  "kernelspec": {
   "display_name": "Python 3 (ipykernel)",
   "language": "python",
   "name": "python3"
  },
  "language_info": {
   "codemirror_mode": {
    "name": "ipython",
    "version": 3
   },
   "file_extension": ".py",
   "mimetype": "text/x-python",
   "name": "python",
   "nbconvert_exporter": "python",
   "pygments_lexer": "ipython3",
   "version": "3.9.12"
  }
 },
 "nbformat": 4,
 "nbformat_minor": 4
}
